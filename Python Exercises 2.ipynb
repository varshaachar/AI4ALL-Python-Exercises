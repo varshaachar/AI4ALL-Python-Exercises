{
 "cells": [
  {
   "cell_type": "markdown",
   "metadata": {},
   "source": [
    "## Fun with Python! (Part 2)\n",
    "\n",
    "References: CS111 at BU."
   ]
  },
  {
   "cell_type": "markdown",
   "metadata": {},
   "source": [
    "**Instructor**: Varsha Achar"
   ]
  },
  {
   "cell_type": "markdown",
   "metadata": {},
   "source": [
    "Let us continue with some medium level Python exercises. If you are having trouble with any of these, don't worry! We have all been through this too. Don't hesitate to ask for help! Let's jump right in!"
   ]
  },
  {
   "cell_type": "markdown",
   "metadata": {},
   "source": [
    "**Exercise 1:**\n",
    "\n",
    "Write a function that takes as input a string, drops every other character, and returns a new string. Only drop the character if it is NOT a vowel (a, e, i, o, u). You can refer to the usage of the 'in' operator from Part 1 of Fun with Python. If you want to check if a given item is not in a list or a given character or string is not in a string, you can use the 'in' operator is 'not in'.  "
   ]
  },
  {
   "cell_type": "code",
   "execution_count": null,
   "metadata": {
    "collapsed": true
   },
   "outputs": [],
   "source": [
    "# Exercise 1\n",
    "\n",
    "# special_string('Bob') → 'Bob'\n",
    "# special_string('Alice') → 'Aie'\n",
    "# special_string('') → ''\n",
    "# special_string('Candies') → 'Canies'\n",
    "\n",
    "def special_string(string):\n",
    "    # YOUR CODE HERE"
   ]
  },
  {
   "cell_type": "code",
   "execution_count": null,
   "metadata": {
    "collapsed": true
   },
   "outputs": [],
   "source": [
    "# Run this cell to test your code\n",
    "\n",
    "def tests():\n",
    "    test1 = special_string('Bob') == 'Bob'\n",
    "    test2 = special_string('Alice') == 'Aie'\n",
    "    test3 = special_string('') == ''\n",
    "    test4 = special_string('Candies') == 'Canies'\n",
    "    test5 = special_string('Merry') == 'Mery'\n",
    "    test6 = special_string('Rhythms') == 'Ryhs'\n",
    "    test7 = special_string('Aaaaa') == 'Aaaaa'\n",
    "    \n",
    "    if (test1 and test2 and test3 and test4 and test5 and test6 and test7) == True:\n",
    "        print('All correct!')\n",
    "    else:\n",
    "        print('Something is wrong. Check your code again.')\n",
    "\n",
    "tests()    \n",
    "    "
   ]
  },
  {
   "cell_type": "markdown",
   "metadata": {},
   "source": [
    "Now, Machine Learning requires us to implement mathematical formula in code pretty often. Let's see if you can do that! \n",
    "\n",
    "**Exercise 2:**\n",
    "\n",
    "Can you write function called 'circle' that takes in a radius paramater and compute diameter, circumference and area? Print these three. \n",
    "\n",
    "But before that, what are the formulas for these three? "
   ]
  },
  {
   "cell_type": "code",
   "execution_count": null,
   "metadata": {
    "collapsed": true
   },
   "outputs": [],
   "source": [
    "# Exercise 2\n",
    "\n",
    "def circle(radius):\n",
    "    '''Use the radius to calculate and print\n",
    "    1) Diameter of the circle\n",
    "    2) Circumference of the circle\n",
    "    3) Area of the circle'''\n",
    "    # YOUR CODE HERE"
   ]
  },
  {
   "cell_type": "code",
   "execution_count": null,
   "metadata": {
    "collapsed": true
   },
   "outputs": [],
   "source": [
    "circle(5)"
   ]
  },
  {
   "cell_type": "code",
   "execution_count": null,
   "metadata": {
    "collapsed": true
   },
   "outputs": [],
   "source": [
    "circle(2.7)"
   ]
  },
  {
   "cell_type": "markdown",
   "metadata": {},
   "source": [
    "Great! Now let's do some string manipulation. Do you know what a palindrome is?\n",
    "\n",
    "**Palindrome:** A palindrome is a string that remains the same, even after you reverse it.\n",
    "Example: madam, anna, racecar."
   ]
  },
  {
   "cell_type": "markdown",
   "metadata": {},
   "source": [
    "**Exercise 3:**\n",
    "\n",
    "You will now write a function to check if the input string is a Palindrome or not. Return True, if it is a Palindrome, else return False.\n",
    "\n",
    "Hint: To find the reverse of the string, think of skip slicing! Compare the reverse and the original - if they match, we have a palindrome!"
   ]
  },
  {
   "cell_type": "code",
   "execution_count": null,
   "metadata": {
    "collapsed": true
   },
   "outputs": [],
   "source": [
    "# Exercise 3\n",
    "\n",
    "# palindrome('bob') → True\n",
    "# palindrome('madam') → True\n",
    "# palindrome('hi') → False\n",
    "# palindrome('bobby') → False\n",
    "\n",
    "def palindrome(string):\n",
    "    # YOUR CODE HERE"
   ]
  },
  {
   "cell_type": "code",
   "execution_count": null,
   "metadata": {
    "collapsed": true
   },
   "outputs": [],
   "source": [
    "# Run this cell to test your code\n",
    "\n",
    "def tests():\n",
    "    test1 = palindrome('bob') == True\n",
    "    test2 = palindrome('racecar') == True\n",
    "    test3 = palindrome('') == True\n",
    "    test4 = palindrome('AI4ALL') == False\n",
    "    test5 = palindrome('madam') == True\n",
    "    test6 = palindrome('sleek') == False\n",
    "    test7 = palindrome('aaaaa') == True\n",
    "    \n",
    "    if (test1 and test2 and test3 and test4 and test5 and test6 and test7) == True:\n",
    "        print('All correct!')\n",
    "    else:\n",
    "        print('Something is wrong. Check your code again.')\n",
    "\n",
    "tests()   "
   ]
  },
  {
   "cell_type": "markdown",
   "metadata": {},
   "source": [
    "**Exercise 4:**\n",
    "\n",
    "Write a function **ends_with(word, suffix)** that takes as inputs two string values word and suffix, and that returns True if the string word ends with the string suffix, and False otherwise."
   ]
  },
  {
   "cell_type": "code",
   "execution_count": null,
   "metadata": {
    "collapsed": true
   },
   "outputs": [],
   "source": [
    "# Exercise 4\n",
    "\n",
    "# ends_with('computer', 'ter') → True\n",
    "# ends_with('computer', 'tar') → False\n",
    "# ends_with('begin', 'in') → True\n",
    "\n",
    "def ends_with(word, suffix):\n",
    "    # YOUR CODE HERE"
   ]
  },
  {
   "cell_type": "code",
   "execution_count": null,
   "metadata": {
    "collapsed": true
   },
   "outputs": [],
   "source": [
    "# Run this cell to test your code\n",
    "\n",
    "def tests():\n",
    "    test1 = ends_with('computer', 'ter') == True\n",
    "    test2 = ends_with('computer', 'tar') == False\n",
    "    test3 = ends_with('begin', 'in') == True\n",
    "    test4 = ends_with('begin', 'on') == False\n",
    "    test5 = ends_with('hey', '') == False\n",
    "    test6 = ends_with('icecream', 'ice') == False\n",
    "    test7 = ends_with('pizza', 'a') == True\n",
    "    \n",
    "    if (test1 and test2 and test3 and test4 and test5 and test6 and test7) == True:\n",
    "        print('All correct!')\n",
    "    else:\n",
    "        print('Something is wrong. Check your code again.')\n",
    "\n",
    "tests() "
   ]
  },
  {
   "cell_type": "markdown",
   "metadata": {},
   "source": [
    "### REVIEW - While loop\n",
    "\n",
    "What is a while loop? How is it different from a for loop?\n",
    "\n",
    "Here is an example of a while loop, which prints 'YAY!' 10 times."
   ]
  },
  {
   "cell_type": "code",
   "execution_count": 1,
   "metadata": {},
   "outputs": [],
   "source": [
    "# While loop example - prints 'YAY!' 10 times.\n",
    "\n",
    "n = 0\n",
    "while n < 10:\n",
    "    print('YAY!')\n",
    "    n += 1   # this is equivalent to n = n + 1"
   ]
  },
  {
   "cell_type": "markdown",
   "metadata": {},
   "source": [
    "What would have happened if the statement n += 1 wasn't there? \n",
    "\n",
    "Ans. Infinite loop! It would never stop printining 'YAY!', because the n never changes from 0, and the condition n < 10 will be true forever. Yikes!"
   ]
  },
  {
   "cell_type": "markdown",
   "metadata": {},
   "source": [
    "_What is a factorial?_ The factorial of a non-negative integer n, denoted by n!, is the product of all positive integers less than or equal to n. For example,\n",
    "\n",
    "5! = 5 x 4 x 3 x 2 x 1 = 120\n",
    "\n",
    "1! = 1, what is the factorial of 0? 0! = 1 too. Ha!"
   ]
  },
  {
   "cell_type": "markdown",
   "metadata": {},
   "source": [
    "**Exercise 5:**\n",
    "\n",
    "Using a loop, calculate and print the factorial of the number **10**. You may use a either a for loop or a while loop."
   ]
  },
  {
   "cell_type": "code",
   "execution_count": 6,
   "metadata": {
    "collapsed": true
   },
   "outputs": [],
   "source": [
    "# Exercise 5\n",
    "\n",
    "# Hint: Instead of multiplying from 10 down to 1, you can multiply from 1 to 10. It's the same thing!\n",
    "#       Have a variable that will keep track of the factorial value with each loop. \n",
    "#       Initially, this should have a value. What should this value be? 0? Or 1? Maybe something else?\n",
    "#       This variable will be accumulating the value of the fact, so should this variable be initialized\n",
    "#       inside the loop or outside? You might want to think of these things before proceeding.\n",
    "\n",
    "# YOUR CODE HERE. No need to have a function, just a loop would suffice. Don't forget to print the factorial.\n",
    "\n",
    "\n",
    "# CODE ENDS HERE.\n",
    "\n",
    "# Use this to check if your answer is correct.\n",
    "print(10 * 9 * 8 * 7 * 6 * 5 * 4 * 3 * 2 * 1)"
   ]
  },
  {
   "cell_type": "markdown",
   "metadata": {},
   "source": [
    "Now, let's see how well you can trace function calls! Take out a piece of paper, and trace the piece code and find out what the output of it will be. \n",
    "\n",
    "**Exercise 6: Function call tracing**\n",
    "\n",
    "Trace this piece of code on paper and see what output you get. Then, run it to see if what you got on paper matches what the computer gets!"
   ]
  },
  {
   "cell_type": "code",
   "execution_count": 8,
   "metadata": {
    "collapsed": true
   },
   "outputs": [],
   "source": [
    "# Exercise 6 - TRACE THIS ON PAPER!\n",
    "\n",
    "def decide(a, b, c):\n",
    "    if a <= c:\n",
    "        if b > c:\n",
    "            a = a * 3\n",
    "        else:\n",
    "            b = b + 4\n",
    "    elif b >= c:\n",
    "        if b == a:\n",
    "            c = c + 2\n",
    "        else:\n",
    "            a = a + 3\n",
    "    b = b * 5\n",
    "    print('decide', a, b, c)\n",
    "    return b\n",
    "\n",
    "a = 1\n",
    "b = 3\n",
    "c = 2\n",
    "decide(a, b, c)\n",
    "print(a, b, c)\n",
    "c = decide(b, a, a)\n",
    "print(a, b, c)"
   ]
  },
  {
   "cell_type": "markdown",
   "metadata": {},
   "source": [
    "Did your answer match the output when you ran it? <br>\n",
    "Yes? Great job! <br>\n",
    "No? Where do you think you went wrong? Can you fix it? If you can't, ask for help! <br>"
   ]
  },
  {
   "cell_type": "code",
   "execution_count": null,
   "metadata": {
    "collapsed": true
   },
   "outputs": [],
   "source": [
    "  "
   ]
  }
 ],
 "metadata": {
  "kernelspec": {
   "display_name": "Python 3",
   "language": "python",
   "name": "python3"
  },
  "language_info": {
   "codemirror_mode": {
    "name": "ipython",
    "version": 3
   },
   "file_extension": ".py",
   "mimetype": "text/x-python",
   "name": "python",
   "nbconvert_exporter": "python",
   "pygments_lexer": "ipython3",
   "version": "3.6.1"
  }
 },
 "nbformat": 4,
 "nbformat_minor": 2
}
