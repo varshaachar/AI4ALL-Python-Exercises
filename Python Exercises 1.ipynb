{
 "cells": [
  {
   "cell_type": "markdown",
   "metadata": {},
   "source": [
    "## Fun with Python! (7/26/18)\n",
    "\n",
    "References: CodingBat, CS111 at BU."
   ]
  },
  {
   "cell_type": "markdown",
   "metadata": {},
   "source": [
    "**Instructor**: Varsha Achar"
   ]
  },
  {
   "cell_type": "markdown",
   "metadata": {},
   "source": [
    "Let us start with some simple Python exercises. If you are having trouble with any of these, don't worry! We have all been through this too. Don't hesitate to ask for help!\n",
    "\n",
    "### REVIEW (*in* operator and functions):\n",
    "\n",
    "What is the 'in' operator? It returns a Boolean (True or False) when you (typically) ask if 'x' is in a list (or even a string).\n",
    "\n",
    "For example, run the following code. It should output _True_."
   ]
  },
  {
   "cell_type": "code",
   "execution_count": 1,
   "metadata": {},
   "outputs": [
    {
     "name": "stdout",
     "output_type": "stream",
     "text": [
      "This should say True: True\n"
     ]
    }
   ],
   "source": [
    "# This code demonstrates the use of the 'in' operator\n",
    "\n",
    "x = 5\n",
    "y = x in [1, 2, 3, 4, 5]\n",
    "\n",
    "print('This should say True:', y)"
   ]
  },
  {
   "cell_type": "code",
   "execution_count": 2,
   "metadata": {},
   "outputs": [
    {
     "name": "stdout",
     "output_type": "stream",
     "text": [
      "True\n",
      "Substring found!\n"
     ]
    }
   ],
   "source": [
    "# This piece of code demonstrates the use of the 'in' operator too\n",
    "\n",
    "character = \"L\"\n",
    "if character in \"AI4ALL\":\n",
    "    print('True')\n",
    "    \n",
    "# It can also be used like this\n",
    "if \"under\" in \"understand\":\n",
    "    print('Substring found!')"
   ]
  },
  {
   "cell_type": "code",
   "execution_count": null,
   "metadata": {
    "collapsed": true
   },
   "outputs": [],
   "source": [
    "# Now you try it! Is there an \"i\" in \"team\"?\n",
    "\n",
    "string = \"team\"\n",
    "x = \"i\"\n",
    "\n",
    "answer = None  # repalce None with your solution\n",
    "print(answer)"
   ]
  },
  {
   "cell_type": "markdown",
   "metadata": {},
   "source": [
    "How does a function work? \n",
    "\n",
    "If you run the function below, it should return \"Hello\""
   ]
  },
  {
   "cell_type": "code",
   "execution_count": 2,
   "metadata": {
    "collapsed": true
   },
   "outputs": [],
   "source": [
    "# This function called example will return \"Hello\"\n",
    "\n",
    "def example():\n",
    "    return \"Hello\""
   ]
  },
  {
   "cell_type": "markdown",
   "metadata": {},
   "source": [
    "Hmmm, wait, that didn't return \"Hello\" though! It didn't return anything!\n",
    "\n",
    "Now, what do we need to do to see our output?"
   ]
  },
  {
   "cell_type": "markdown",
   "metadata": {},
   "source": [
    "Well, if you wondered where the function call is, you wondered right! You cannot see the return value of a function without calling it."
   ]
  },
  {
   "cell_type": "code",
   "execution_count": 3,
   "metadata": {},
   "outputs": [
    {
     "data": {
      "text/plain": [
       "'Hello'"
      ]
     },
     "execution_count": 3,
     "metadata": {},
     "output_type": "execute_result"
    }
   ],
   "source": [
    "example()"
   ]
  },
  {
   "cell_type": "markdown",
   "metadata": {},
   "source": [
    "Can you answer this? What is the difference between func1 and func2?"
   ]
  },
  {
   "cell_type": "code",
   "execution_count": 4,
   "metadata": {
    "scrolled": true
   },
   "outputs": [
    {
     "data": {
      "text/plain": [
       "'True'"
      ]
     },
     "execution_count": 4,
     "metadata": {},
     "output_type": "execute_result"
    }
   ],
   "source": [
    "# Function 1: func1\n",
    "\n",
    "def func1():\n",
    "    return 'True'\n",
    "\n",
    "# function call\n",
    "func1()"
   ]
  },
  {
   "cell_type": "code",
   "execution_count": 5,
   "metadata": {},
   "outputs": [
    {
     "data": {
      "text/plain": [
       "True"
      ]
     },
     "execution_count": 5,
     "metadata": {},
     "output_type": "execute_result"
    }
   ],
   "source": [
    "# Function 2: func2\n",
    "\n",
    "def func2():\n",
    "    return True\n",
    "\n",
    "# function call\n",
    "func2()"
   ]
  },
  {
   "cell_type": "markdown",
   "metadata": {},
   "source": [
    "They both look the same: 'True' vs True. The difference is that 'True' is a string and True is a Boolean. So now you know that the booleans True and False do not need to be in quotes while returning."
   ]
  },
  {
   "cell_type": "markdown",
   "metadata": {},
   "source": [
    "Now, time to do it yourself!\n",
    "\n",
    "**Exercise 1:** \n",
    "\n",
    "The parameter _weekday_ is _True_ if it is a weekday, and the parameter _vacation_ is _True_ if we are on vacation. We sleep in if it is **not** a weekday or we're on vacation. Return _True_ if we sleep in."
   ]
  },
  {
   "cell_type": "code",
   "execution_count": 7,
   "metadata": {
    "collapsed": true
   },
   "outputs": [],
   "source": [
    "# Exercise 1\n",
    "\n",
    "# sleep_in(False, False) → True\n",
    "# sleep_in(True, False) → False\n",
    "# sleep_in(False, True) → True\n",
    "\n",
    "def sleep_in(weekday, vacation):\n",
    "    # YOUR CODE HERE\n"
   ]
  },
  {
   "cell_type": "code",
   "execution_count": 8,
   "metadata": {},
   "outputs": [
    {
     "name": "stdout",
     "output_type": "stream",
     "text": [
      "True\n",
      "False\n",
      "True\n",
      "True\n"
     ]
    }
   ],
   "source": [
    "# Now, test it by running this!\n",
    "\n",
    "# TEST 1: Not a weekday, and not on vacation. \n",
    "print(sleep_in(False, False))  # should return True \n",
    "\n",
    "# TEST 2: Is a weekday, and not on vacation. \n",
    "print(sleep_in(True, False))  # should return False\n",
    "\n",
    "# TEST 3: Not a weekday, and on vacation. \n",
    "print(sleep_in(False, True))  # should return True \n",
    "\n",
    "# TEST 4: Is a weekday, and on vacation. \n",
    "print(sleep_in(True, True))  # should return True "
   ]
  },
  {
   "cell_type": "markdown",
   "metadata": {},
   "source": [
    "### REVIEW (Strings - slicing and more!):\n",
    "\n",
    "What is a string? A string is a sequence of characters. It is represented in single quotes (' ') or double quotes (\" \").\n",
    "\n",
    "How do you find the length of a string? Run the line of code below to see how!\n"
   ]
  },
  {
   "cell_type": "code",
   "execution_count": 9,
   "metadata": {},
   "outputs": [
    {
     "name": "stdout",
     "output_type": "stream",
     "text": [
      "5\n"
     ]
    }
   ],
   "source": [
    "print(len('Hello'))"
   ]
  },
  {
   "cell_type": "code",
   "execution_count": 10,
   "metadata": {},
   "outputs": [
    {
     "name": "stdout",
     "output_type": "stream",
     "text": [
      "14\n"
     ]
    }
   ],
   "source": [
    "string = 'I love Python!'\n",
    "\n",
    "# Before you run this cell, can you guess the length of the string above?\n",
    "\n",
    "print(len(string))"
   ]
  },
  {
   "cell_type": "markdown",
   "metadata": {},
   "source": [
    "**Remember** that digits (0-9), spaces, and special characters (!,.% and more) are also characters. The _len_ function counts the number of characters in a string."
   ]
  },
  {
   "cell_type": "markdown",
   "metadata": {},
   "source": [
    "Now, what is **concatenation**? Concatenation means joining string together. We can do this with the '+' operator in Python. \n",
    "\n",
    "You may be wondering: If this is used for concatenation, how do we add numbers in Python?\n",
    "\n",
    "Answer: The '+' operator works as a concatenator when the \"arguments\" are strings, whereas it works as a regular math plus sign when the \"arguments\" are numbers (integer, float, double, etc...)\n",
    "\n",
    "'Hi' + 'There' = 'HiThere'\n",
    "\n",
    "1 + 4 = 5\n",
    "\n",
    "Here, 'Hi', 'There', 1, and 4 are the arguments.\n",
    "\n",
    "**Think about this!**\n",
    "What happens when we try to do this: 'Hi' + 4? Run the cell below to find out!"
   ]
  },
  {
   "cell_type": "code",
   "execution_count": 11,
   "metadata": {},
   "outputs": [
    {
     "ename": "TypeError",
     "evalue": "must be str, not int",
     "output_type": "error",
     "traceback": [
      "\u001b[1;31m---------------------------------------------------------------------------\u001b[0m",
      "\u001b[1;31mTypeError\u001b[0m                                 Traceback (most recent call last)",
      "\u001b[1;32m<ipython-input-11-a6ece9f19667>\u001b[0m in \u001b[0;36m<module>\u001b[1;34m()\u001b[0m\n\u001b[0;32m      1\u001b[0m \u001b[1;31m# This will give you a TypeError - which means you CANNOT use + on two different data types.\u001b[0m\u001b[1;33m\u001b[0m\u001b[1;33m\u001b[0m\u001b[0m\n\u001b[0;32m      2\u001b[0m \u001b[1;33m\u001b[0m\u001b[0m\n\u001b[1;32m----> 3\u001b[1;33m \u001b[0mprint\u001b[0m\u001b[1;33m(\u001b[0m\u001b[1;34m'Hi'\u001b[0m \u001b[1;33m+\u001b[0m \u001b[1;36m4\u001b[0m\u001b[1;33m)\u001b[0m\u001b[1;33m\u001b[0m\u001b[0m\n\u001b[0m",
      "\u001b[1;31mTypeError\u001b[0m: must be str, not int"
     ]
    }
   ],
   "source": [
    "# This will give you a TypeError - which means you CANNOT use + on two different data types.\n",
    "\n",
    "print('Hi' + 4)"
   ]
  },
  {
   "cell_type": "markdown",
   "metadata": {},
   "source": [
    "How about if we did this instead: 'Hi' + '4'? Run the cell below to find out!"
   ]
  },
  {
   "cell_type": "code",
   "execution_count": 12,
   "metadata": {},
   "outputs": [
    {
     "name": "stdout",
     "output_type": "stream",
     "text": [
      "Hi4\n"
     ]
    }
   ],
   "source": [
    "# To solve the problem above to get Hi4 as the output, enclose the 4 in quotes like this - '4'\n",
    "\n",
    "print('Hi' + '4')"
   ]
  },
  {
   "cell_type": "markdown",
   "metadata": {},
   "source": [
    "Similarly, the * operator performs multiplication. When used with strings, it works like this:"
   ]
  },
  {
   "cell_type": "code",
   "execution_count": 13,
   "metadata": {},
   "outputs": [
    {
     "name": "stdout",
     "output_type": "stream",
     "text": [
      "AI4ALLAI4ALL\n",
      "HeyHeyHey\n",
      "CSCSCSCSCS\n"
     ]
    }
   ],
   "source": [
    "print('AI4ALL' * 2) \n",
    "print('Hey' * 3)\n",
    "\n",
    "my_str = 'CS'\n",
    "print(my_str * 5)"
   ]
  },
  {
   "cell_type": "markdown",
   "metadata": {},
   "source": [
    "Now, time to review slicing from the slides! Here are a few examples for you. Let us know if you have any questions!"
   ]
  },
  {
   "cell_type": "code",
   "execution_count": 14,
   "metadata": {
    "collapsed": true
   },
   "outputs": [],
   "source": [
    "string = 'AI4ALL'"
   ]
  },
  {
   "cell_type": "code",
   "execution_count": 15,
   "metadata": {},
   "outputs": [
    {
     "name": "stdout",
     "output_type": "stream",
     "text": [
      "I4ALL\n"
     ]
    }
   ],
   "source": [
    "print(string[1:])"
   ]
  },
  {
   "cell_type": "code",
   "execution_count": 16,
   "metadata": {},
   "outputs": [
    {
     "name": "stdout",
     "output_type": "stream",
     "text": [
      "AI4AL\n"
     ]
    }
   ],
   "source": [
    "print(string[:-1])"
   ]
  },
  {
   "cell_type": "code",
   "execution_count": 17,
   "metadata": {},
   "outputs": [
    {
     "name": "stdout",
     "output_type": "stream",
     "text": [
      "AI4ALL\n"
     ]
    }
   ],
   "source": [
    "print(string[0:])"
   ]
  },
  {
   "cell_type": "code",
   "execution_count": 18,
   "metadata": {},
   "outputs": [
    {
     "name": "stdout",
     "output_type": "stream",
     "text": [
      "AI4AL\n"
     ]
    }
   ],
   "source": [
    "print(string[0:-1])"
   ]
  },
  {
   "cell_type": "code",
   "execution_count": 19,
   "metadata": {},
   "outputs": [
    {
     "name": "stdout",
     "output_type": "stream",
     "text": [
      "I\n"
     ]
    }
   ],
   "source": [
    "print(string[1:2])"
   ]
  },
  {
   "cell_type": "code",
   "execution_count": 20,
   "metadata": {},
   "outputs": [
    {
     "name": "stdout",
     "output_type": "stream",
     "text": [
      "I4AL\n",
      "I4AL\n"
     ]
    }
   ],
   "source": [
    "print(string[1:5])  # This is equivalent to print(str[1:-1])\n",
    "print(string[1:-1])"
   ]
  },
  {
   "cell_type": "code",
   "execution_count": 21,
   "metadata": {},
   "outputs": [
    {
     "name": "stdout",
     "output_type": "stream",
     "text": [
      "\n"
     ]
    }
   ],
   "source": [
    "print(string[1:1])"
   ]
  },
  {
   "cell_type": "code",
   "execution_count": 22,
   "metadata": {},
   "outputs": [
    {
     "name": "stdout",
     "output_type": "stream",
     "text": [
      "I4A\n"
     ]
    }
   ],
   "source": [
    "print(string[1:4])"
   ]
  },
  {
   "cell_type": "code",
   "execution_count": 23,
   "metadata": {},
   "outputs": [
    {
     "name": "stdout",
     "output_type": "stream",
     "text": [
      "AI4ALL\n"
     ]
    }
   ],
   "source": [
    "print(string[:6])"
   ]
  },
  {
   "cell_type": "code",
   "execution_count": 24,
   "metadata": {},
   "outputs": [
    {
     "name": "stdout",
     "output_type": "stream",
     "text": [
      "AI4ALL\n"
     ]
    }
   ],
   "source": [
    "print(string[:7])   # change 7 to numbers greater than 7 and see what happens"
   ]
  },
  {
   "cell_type": "markdown",
   "metadata": {},
   "source": [
    "Now that you know how to perform some basic string operations, here are a few exercises."
   ]
  },
  {
   "cell_type": "markdown",
   "metadata": {},
   "source": [
    "**Exercise 2:**\n",
    "\n",
    "Given a string, we'll say that the front is the first 3 chars of the string. If the string length is less than 3, the front is whatever is there. Return a new string which is 3 copies of the front."
   ]
  },
  {
   "cell_type": "code",
   "execution_count": 30,
   "metadata": {
    "collapsed": true
   },
   "outputs": [],
   "source": [
    "# Exercise 2\n",
    "\n",
    "# front3('Java') → 'JavJavJav'\n",
    "# front3('Chocolate') → 'ChoChoCho'\n",
    "# front3('abc') → 'abcabcabc'\n",
    "\n",
    "def front3(string):\n",
    "    # YOUR CODE HERE"
   ]
  },
  {
   "cell_type": "code",
   "execution_count": 31,
   "metadata": {},
   "outputs": [
    {
     "data": {
      "text/plain": [
       "True"
      ]
     },
     "execution_count": 31,
     "metadata": {},
     "output_type": "execute_result"
    }
   ],
   "source": [
    "# Run this cell to test your code.\n",
    "\n",
    "def tests():\n",
    "    test1 = (front3('Java') == 'JavJavJav')\n",
    "    test2 = (front3('Chocolate') == 'ChoChoCho')\n",
    "    test3 = (front3('AI4ALL') == 'AI4AI4AI4')\n",
    "    test4 = (front3('abc') == 'abcabcabc')\n",
    "    test5 = (front3('') == '')\n",
    "    test6 = (front3('Hi') == 'HiHiHi')\n",
    "    \n",
    "    if (test1 and test2 and test3 and test4 and test5 and test6) == True:\n",
    "        print('All correct!')\n",
    "    else:\n",
    "        print('Something is wrong. Check your code again.')\n",
    "\n",
    "tests()"
   ]
  },
  {
   "cell_type": "markdown",
   "metadata": {},
   "source": [
    "Indexing: To access one character of a string 'str', you can just say str[0], or str[1], or str[-1] for the last character. Check out the examples below. "
   ]
  },
  {
   "cell_type": "code",
   "execution_count": 25,
   "metadata": {
    "scrolled": true
   },
   "outputs": [
    {
     "name": "stdout",
     "output_type": "stream",
     "text": [
      "First character: A\n",
      "Last character: U\n",
      "Last character: U\n",
      "Second character: I\n",
      "Second to last character (or 9th character): B\n"
     ]
    }
   ],
   "source": [
    "my_str1 = 'AI4ALLatBU'\n",
    "\n",
    "print('First character:', my_str1[0])\n",
    "print('Last character:', my_str1[len(my_str1) - 1])  # We do the -1 because indexing starts from 0 and not 1. Without the - 1 you will get an IndexError\n",
    "\n",
    "# Better way to get the last character, without using len function:\n",
    "print('Last character:', my_str1[-1])\n",
    "print('Second character:', my_str1[1])\n",
    "print('Second to last character (or 9th character):', my_str1[-2])"
   ]
  },
  {
   "cell_type": "markdown",
   "metadata": {},
   "source": [
    "One more with slicing and concatenation! \n",
    "\n",
    "Note: When concatenating, if you want a space, you need to add one. For example,"
   ]
  },
  {
   "cell_type": "code",
   "execution_count": 26,
   "metadata": {},
   "outputs": [
    {
     "name": "stdout",
     "output_type": "stream",
     "text": [
      "Hello World!\n"
     ]
    }
   ],
   "source": [
    "print(\"Hello \" + \"World!\")  # note space after Hello before the double quote closes."
   ]
  },
  {
   "cell_type": "markdown",
   "metadata": {},
   "source": [
    "**Exercise 3:**\n",
    "\n",
    "Given a string, return a new string where \"not \" has been added to the front. However, if the string already begins with \"not\", return the string unchanged."
   ]
  },
  {
   "cell_type": "code",
   "execution_count": 57,
   "metadata": {
    "collapsed": true
   },
   "outputs": [],
   "source": [
    "# Exercise 3\n",
    "\n",
    "# not_string('candy') → 'not candy'\n",
    "# not_string('x') → 'not x'\n",
    "# not_string('not bad') → 'not bad'\n",
    "\n",
    "def not_string(string):\n",
    "    # YOUR CODE HERE"
   ]
  },
  {
   "cell_type": "code",
   "execution_count": 58,
   "metadata": {},
   "outputs": [
    {
     "data": {
      "text/plain": [
       "True"
      ]
     },
     "execution_count": 58,
     "metadata": {},
     "output_type": "execute_result"
    }
   ],
   "source": [
    "# Run this cell to test your code.\n",
    "\n",
    "def tests():\n",
    "    test1 = (not_string('candy') == 'not candy')\n",
    "    test2 = (not_string('x') == 'not x')\n",
    "    test3 = (not_string('not bad') == 'not bad')\n",
    "    test4 = (not_string('bad') == 'not bad')\n",
    "    test5 = (not_string('not') == 'not')\n",
    "    test6 = (not_string('is not') == 'not is not')\n",
    "    test7 = (not_string('no') == 'not no')\n",
    "    \n",
    "    if (test1 and test2 and test3 and test4 and test5 and test6 and test7) == True:\n",
    "        print('All correct!')\n",
    "    else:\n",
    "        print('Something is wrong. Check your code again.')\n",
    "\n",
    "tests()"
   ]
  },
  {
   "cell_type": "markdown",
   "metadata": {},
   "source": [
    "**Exercise 4:**\n",
    "\n",
    "Given a string and a non-negative int n, return a larger string that is n copies of the original string."
   ]
  },
  {
   "cell_type": "code",
   "execution_count": null,
   "metadata": {
    "collapsed": true
   },
   "outputs": [],
   "source": [
    "# Exercise 4\n",
    "# This can be written in one line using the * operator. \n",
    "\n",
    "# string_times('Hi', 2) → 'HiHi'\n",
    "# string_times('Hi', 3) → 'HiHiHi'\n",
    "# string_times('Hi', 1) → 'Hi'\n",
    "\n",
    "def string_times(string, n):\n",
    "    # YOUR CODE HERE\n"
   ]
  },
  {
   "cell_type": "code",
   "execution_count": null,
   "metadata": {
    "collapsed": true
   },
   "outputs": [],
   "source": [
    "# Run this cell to test your code.\n",
    "\n",
    "def tests():\n",
    "    test1 = (string_times('Hi', 2) == 'HiHi')\n",
    "    test2 = (string_times('Hi', 3) == 'HiHiHi')\n",
    "    test3 = (string_times('Hi', 1) == 'Hi')\n",
    "    test4 = (string_times('Hi', 0) == '')\n",
    "    test5 = (string_times('Oh Boy!', 2) == 'Oh Boy!Oh Boy!')\n",
    "    test6 = (string_times('', 4) == '')\n",
    "    test7 = (string_times('x', 4) == 'xxxx')\n",
    "    \n",
    "    if (test1 and test2 and test3 and test4 and test5 and test6 and test7) == True:\n",
    "        print('All correct!')\n",
    "    else:\n",
    "        print('Something is wrong. Check your code again.')\n",
    "\n",
    "tests()"
   ]
  },
  {
   "cell_type": "markdown",
   "metadata": {},
   "source": [
    "**Exercise 5: The four Fours Challenge!**"
   ]
  },
  {
   "cell_type": "markdown",
   "metadata": {},
   "source": [
    "In this problem you will write a simple Python program that computes the integers 0 through 4 using expressions involving exactly four fours and no other numbers. For example:"
   ]
  },
  {
   "cell_type": "code",
   "execution_count": 1,
   "metadata": {},
   "outputs": [
    {
     "name": "stdout",
     "output_type": "stream",
     "text": [
      "zero = 0\n"
     ]
    }
   ],
   "source": [
    "zero = 4 + 4 - 4 - 4\n",
    "print('zero =', zero)"
   ]
  },
  {
   "cell_type": "markdown",
   "metadata": {},
   "source": [
    "Your expressions may use any of the following operators: +, -, *, // (integer division), ** (power), and parentheses. Note that you should use the integer division operator (//) instead of the regular division operator (/), because the / operator will cause your results to include a decimal. For example, 4//4 will give you 1, but 4/4 will give you 1.0.\n",
    "\n",
    "Follow the example above to write expressions to computer the integers one through four."
   ]
  },
  {
   "cell_type": "markdown",
   "metadata": {},
   "source": [
    "Your output should look like this:\n",
    "\n",
    "zero = 0 <br>\n",
    "one = 1 <br>\n",
    "two = 2 <br>\n",
    "three = 3 <br>\n",
    "four = 4 <br>"
   ]
  },
  {
   "cell_type": "code",
   "execution_count": 2,
   "metadata": {},
   "outputs": [
    {
     "name": "stdout",
     "output_type": "stream",
     "text": [
      "zero = 0\n"
     ]
    }
   ],
   "source": [
    "# YOUR CODE HERE - First one has been done for you. \n",
    "\n",
    "# Code for zero\n",
    "zero = 4 + 4 - 4 - 4\n",
    "print('zero =', zero)\n",
    "\n",
    "# Code for one here\n",
    "\n",
    "\n",
    "# Code for two here\n",
    "\n",
    "\n",
    "# Code for three here\n",
    "\n",
    "\n",
    "# Code for four here\n",
    "\n"
   ]
  },
  {
   "cell_type": "markdown",
   "metadata": {},
   "source": [
    "### REVIEW - loops\n",
    "\n",
    "Answer the following:\n",
    "\n",
    "1) In simple words, what is a for loop?\n",
    "\n",
    "2) How does the 'range' function work?\n"
   ]
  },
  {
   "cell_type": "code",
   "execution_count": 27,
   "metadata": {},
   "outputs": [
    {
     "name": "stdout",
     "output_type": "stream",
     "text": [
      "First Loop\n",
      "0\n",
      "1\n",
      "2\n",
      "3\n",
      "4\n",
      "5\n",
      "6\n",
      "7\n",
      "8\n",
      "9\n",
      "*********\n",
      "Second loop\n",
      "0\n",
      "1\n",
      "2\n",
      "3\n",
      "4\n",
      "5\n",
      "6\n",
      "7\n",
      "8\n",
      "9\n"
     ]
    }
   ],
   "source": [
    "# Example loop 1\n",
    "print('First Loop')\n",
    "for i in range(0,10):\n",
    "    print(i)\n",
    "    \n",
    "print('*********')\n",
    "\n",
    "# Example loop 2\n",
    "print('Second loop')\n",
    "for i in range(10):\n",
    "    print(i)\n",
    "    \n",
    "# What is the difference between Example loop 1 and 2? They print the same thing. \n",
    "# If the first number is not specified, it is 0 by default. "
   ]
  },
  {
   "cell_type": "code",
   "execution_count": 28,
   "metadata": {},
   "outputs": [
    {
     "name": "stdout",
     "output_type": "stream",
     "text": [
      "Hello 2\n",
      "Hello 3\n",
      "Hello 4\n",
      "Hello 5\n",
      "Hello 6\n",
      "Hello 7\n",
      "Hello 8\n",
      "Hello 9\n",
      "Hello 10\n",
      "Hello 11\n",
      "Hello 12\n",
      "Hello 13\n",
      "Hello 14\n"
     ]
    }
   ],
   "source": [
    "# Run this code, modify the arguments of the range function to see how it works. \n",
    "# Maybe you can remove or change 2 and 15. Make sure you don't enter really huge numbers, because that would run for a while.\n",
    "\n",
    "for x in range(2,15):\n",
    "    print('Hello', x)"
   ]
  },
  {
   "cell_type": "markdown",
   "metadata": {
    "collapsed": true
   },
   "source": [
    "Remember, there are two ways to loop:\n",
    "\n",
    "- Using an index \n",
    "- Using an element\n",
    "\n",
    "Look at this example - understand how they work. "
   ]
  },
  {
   "cell_type": "code",
   "execution_count": 29,
   "metadata": {},
   "outputs": [
    {
     "name": "stdout",
     "output_type": "stream",
     "text": [
      "Using an index\n",
      "6\n",
      "2\n",
      "4\n",
      "8\n",
      "0\n",
      "5\n",
      "11\n",
      "Using an element\n",
      "6\n",
      "2\n",
      "4\n",
      "8\n",
      "0\n",
      "5\n",
      "11\n"
     ]
    }
   ],
   "source": [
    "lst = [6, 2, 4, 8, 0, 5, 11]\n",
    "\n",
    "# Example loop 3\n",
    "print('Using an index')\n",
    "for i in range(len(lst)):  # index based loop\n",
    "    print(lst[i])\n",
    "    \n",
    "# Example loop 4\n",
    "print('Using an element')\n",
    "for ele in lst:           # element based loop\n",
    "    print(ele)\n",
    "    \n",
    "# Note that both have the same output, and each of them have different applications.\n",
    "# Can you think of when an index based loop will be useful?"
   ]
  },
  {
   "cell_type": "markdown",
   "metadata": {
    "collapsed": true
   },
   "source": [
    "**Exercise 6:**\n",
    "\n",
    "Return the number of even ints in the given array. Note: the % \"mod\" operator computes the remainder, e.g. 5 % 2 is 1."
   ]
  },
  {
   "cell_type": "code",
   "execution_count": null,
   "metadata": {
    "collapsed": true
   },
   "outputs": [],
   "source": [
    "# Exercise 6\n",
    "\n",
    "# count_evens([2, 1, 2, 3, 4]) → 3\n",
    "# count_evens([2, 2, 0]) → 3\n",
    "# count_evens([1, 3, 5]) → 0\n",
    "\n",
    "def count_evens(nums):\n",
    "    ''' nums is the list of ints '''\n",
    "    # YOUR CODE HERE\n",
    "    "
   ]
  },
  {
   "cell_type": "code",
   "execution_count": null,
   "metadata": {
    "collapsed": true
   },
   "outputs": [],
   "source": [
    "# Run this cell to test your code.\n",
    "\n",
    "def tests():\n",
    "    test1 = (count_evens([2, 1, 2, 3, 4]) == 3)\n",
    "    test2 = (count_evens([2, 2, 0]) == 3)\n",
    "    test3 = (count_evens([1, 3, 5]) == 0)\n",
    "    test4 = (count_evens([]) == 0)\n",
    "    test5 = (count_evens([11, 9, 0, 1]) == 1)\n",
    "    test6 = (count_evens([2]) == 1)\n",
    "    test7 = (count_evens([2, 5, 12]) == 2)\n",
    "    \n",
    "    if (test1 and test2 and test3 and test4 and test5 and test6 and test7) == True:\n",
    "        print('All correct!')\n",
    "    else:\n",
    "        print('Something is wrong. Check your code again.')\n",
    "\n",
    "tests()"
   ]
  },
  {
   "cell_type": "markdown",
   "metadata": {},
   "source": [
    "What does a break statement do? Like the name suggests, it breaks out of the loop."
   ]
  },
  {
   "cell_type": "markdown",
   "metadata": {},
   "source": [
    "**Exercise 7:**\n",
    "    \n",
    "**13 - An Unlucky Number:** Return the sum of the numbers in the array, returning 0 for an empty array. Except the number 13 is very unlucky, so it does not count and numbers that come after a 13 also do not count.\n",
    "\n",
    "HINT: Use the break statement when needed!"
   ]
  },
  {
   "cell_type": "code",
   "execution_count": null,
   "metadata": {
    "collapsed": true
   },
   "outputs": [],
   "source": [
    "# Exercise 7\n",
    "\n",
    "# sum13([1, 2, 2, 1]) → 6\n",
    "# sum13([1, 13, 2]) → 1\n",
    "# sum13([1, 2, 2, 1, 13, 13, 4, 5]) → 6\n",
    "\n",
    "def sum13(nums):\n",
    "    ''' nums is the list of ints'''\n",
    "    # YOUR CODE HERE"
   ]
  },
  {
   "cell_type": "code",
   "execution_count": null,
   "metadata": {
    "collapsed": true
   },
   "outputs": [],
   "source": [
    "# Run this cell to test your code.\n",
    "\n",
    "def tests():\n",
    "    test1 = (sum13([1, 2, 2, 1]) == 6)\n",
    "    test2 = (sum13([1, 13, 2]) == 1)\n",
    "    test3 = (sum13([13]) == 0)\n",
    "    test4 = (sum13([]) == 0)\n",
    "    test5 = (sum13([1, 2, 2, 1, 13, 13, 4, 5]) == 6)\n",
    "    test6 = (sum13([13, 6, 34, 1]) == 0)\n",
    "    test7 = (sum13([13, 1, 13]) == 0)\n",
    "    \n",
    "    if (test1 and test2 and test3 and test4 and test5 and test6 and test7) == True:\n",
    "        print('All correct!')\n",
    "    else:\n",
    "        print('Something is wrong. Check your code again.')\n",
    "\n",
    "tests()"
   ]
  },
  {
   "cell_type": "markdown",
   "metadata": {},
   "source": [
    "### REVIEW - If and else\n",
    "\n",
    "If + else = elif\n",
    "\n",
    "- When do you use if? \n",
    "- When do you use if and else?\n",
    "- When do you use elif?"
   ]
  },
  {
   "cell_type": "markdown",
   "metadata": {},
   "source": [
    "**Exercise 8:**\n",
    "\n",
    "The number 6 is a truly great number. Given two int values, a and b, return True if either one is 6. Or if their sum or difference is 6. Note: the function abs(num) computes the absolute value of a number."
   ]
  },
  {
   "cell_type": "code",
   "execution_count": null,
   "metadata": {
    "collapsed": true
   },
   "outputs": [],
   "source": [
    "# Exercise 8 \n",
    "\n",
    "# love6(6, 4) → True\n",
    "# love6(4, 5) → False\n",
    "# love6(1, 5) → True\n",
    "\n",
    "def love6(a, b):\n",
    "    # YOUR CODE HERE\n"
   ]
  },
  {
   "cell_type": "code",
   "execution_count": null,
   "metadata": {
    "collapsed": true
   },
   "outputs": [],
   "source": [
    "# Run this cell to test your code.\n",
    "\n",
    "def tests():\n",
    "    test1 = (love6(6, 4) == True)\n",
    "    test2 = (love6(4, 5) == False)\n",
    "    test3 = (love6(1, 5) == True)\n",
    "    test4 = (love6(1, 6) == True)\n",
    "    test5 = (love6(1, 8) == False)\n",
    "    test6 = (love6(1, 7) == True)\n",
    "    test7 = (love6(7, 5) == False)\n",
    "    test8 = (love6(-4, -10) == True)\n",
    "    test9 = (love6(-7, 1) == False)\n",
    "    test10 = (love6(7, -1) == True)\n",
    "    test11 = (love6(-6, 12) == True)\n",
    "    test12 = (love6(-2, -4) == False)\n",
    "    test13 = (love6(0, 9) == False)\n",
    "    test14 = (love6(3, 3) == True)\n",
    "    \n",
    "    if (test1 and test2 and test3 and test4 and test5 and test6 and test7 and test8 and test9 and test10 and test11 and test12 and test13 and test14) == True:\n",
    "        print('All correct!')\n",
    "    else:\n",
    "        print('Something is wrong. Check your code again.')\n",
    "    \n",
    "\n",
    "tests()"
   ]
  },
  {
   "cell_type": "markdown",
   "metadata": {},
   "source": [
    "Done with the easy set! Good job!"
   ]
  }
 ],
 "metadata": {
  "kernelspec": {
   "display_name": "Python 3",
   "language": "python",
   "name": "python3"
  },
  "language_info": {
   "codemirror_mode": {
    "name": "ipython",
    "version": 3
   },
   "file_extension": ".py",
   "mimetype": "text/x-python",
   "name": "python",
   "nbconvert_exporter": "python",
   "pygments_lexer": "ipython3",
   "version": "3.6.1"
  }
 },
 "nbformat": 4,
 "nbformat_minor": 2
}
