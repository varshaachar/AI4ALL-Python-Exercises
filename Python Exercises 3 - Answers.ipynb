{
 "cells": [
  {
   "cell_type": "markdown",
   "metadata": {},
   "source": [
    "# Fun with Python! (Part 3)"
   ]
  },
  {
   "cell_type": "markdown",
   "metadata": {},
   "source": [
    "References: CodingBat, CS111 at BU."
   ]
  },
  {
   "cell_type": "markdown",
   "metadata": {},
   "source": [
    "**Instructor**: Varsha Achar"
   ]
  },
  {
   "cell_type": "markdown",
   "metadata": {},
   "source": [
    "**Exercise 1:**\n",
    "\n",
    "Write a function that finds the largest number in a list. You CANNOT use the built in ```max()``` function to do this problem. (the list will never be empty)\n",
    "\n",
    "Here is the pseudo code: Assume the first element of the list is the largest. Then, loop through the remaining elements and check if each of them is larger than the largest. If an element is larger than the largest, that element then becomes the largest. Don't forget to return the largest number at the end of the function."
   ]
  },
  {
   "cell_type": "code",
   "execution_count": 7,
   "metadata": {
    "collapsed": true
   },
   "outputs": [],
   "source": [
    "# Exercise 1\n",
    "\n",
    "# maximum_list([4, 1, 8, 7, 9]) → 9\n",
    "# maximum_list([5, -2, 4, 1, 3]) → 5\n",
    "# maximum([0, 0, 0]) → 0\n",
    "\n",
    "def maximum_list(lst):\n",
    "    # YOUR CODE here\n",
    "    large = lst[0]\n",
    "    for i in range(1, len(lst)):\n",
    "        if lst[i] > large:\n",
    "            large = lst[i]\n",
    "    \n",
    "    return large"
   ]
  },
  {
   "cell_type": "code",
   "execution_count": 20,
   "metadata": {},
   "outputs": [],
   "source": [
    "# Run this cell to test your code\n",
    "\n",
    "def tests():\n",
    "    test1 = (maximum_list([4, 1, 8, 7, 9]) == 9)\n",
    "    test2 = (maximum_list([5, -2, 4, 1, 3]) == 5)\n",
    "    test3 = (maximum_list([0, 0, 0]) == 0)\n",
    "    test4 = (maximum_list([-5, -4, -3]) == -3)\n",
    "    test5 = (maximum_list([1]) == 1)\n",
    "    test6 = (maximum_list([100, 43, 556, 4524, 331]) == 4524)\n",
    "    \n",
    "    return test1 and test2 and test3 and test4 and test5 and test6\n",
    "\n",
    "if tests() == True:\n",
    "    print('All correct! Great job!')\n",
    "else:\n",
    "    print('Something is wrong. Check your code again.')\n",
    "    "
   ]
  },
  {
   "cell_type": "markdown",
   "metadata": {},
   "source": [
    "**Exercise 2:**\n",
    "\n",
    "Now, time to do the same for smallest! Just copy your code and modify it to find the smallest number in a list. It should take you under a minute to do, if you got the previous one right :)"
   ]
  },
  {
   "cell_type": "code",
   "execution_count": 9,
   "metadata": {
    "collapsed": true
   },
   "outputs": [],
   "source": [
    "# Exercise 2\n",
    "\n",
    "# minimum_list([4, 1, 8, 7, 9]) → 1\n",
    "# minimum_list([5, -2, 4, 1, 3]) → -2\n",
    "# minimum_list([0, 0, 0]) → 0\n",
    "\n",
    "def minimum_list(lst):\n",
    "    # YOUR CODE HERE\n",
    "    small = lst[0]\n",
    "    for i in range(1, len(lst)):\n",
    "        if lst[i] < small:\n",
    "            small = lst[i]\n",
    "    \n",
    "    return small"
   ]
  },
  {
   "cell_type": "code",
   "execution_count": 19,
   "metadata": {},
   "outputs": [],
   "source": [
    "# Run this cell to test your code\n",
    "\n",
    "def tests():\n",
    "    test1 = (minimum_list([4, 1, 8, 7, 9]) == 1)\n",
    "    test2 = (minimum_list([5, -2, 4, 1, 3]) == -2)\n",
    "    test3 = (minimum_list([0, 0, 0]) == 0)\n",
    "    test4 = (minimum_list([-5, -4, -3]) == -5)\n",
    "    test5 = (minimum_list([1]) == 1)\n",
    "    test6 = (minimum_list([100, 43, 556, 4524, 331]) == 43)\n",
    "    \n",
    "    return test1 and test2 and test3 and test4 and test5 and test6\n",
    "\n",
    "if tests() == True:\n",
    "    print('All correct! Great job!')\n",
    "else:\n",
    "    print('Something is wrong. Check your code again.')\n",
    "    "
   ]
  },
  {
   "cell_type": "markdown",
   "metadata": {},
   "source": [
    "**Exercise 3:**\n",
    "\n",
    "Return the number of times that the string \"code\" appears anywhere in the given string, except we'll accept any letter for the 'd', so \"cope\" and \"cooe\" count.\n",
    "\n",
    "Remember to take care of the \"index out of range\" issue. (What is this?)"
   ]
  },
  {
   "cell_type": "code",
   "execution_count": 11,
   "metadata": {
    "collapsed": true
   },
   "outputs": [],
   "source": [
    "# Exercise 3\n",
    "\n",
    "# count_code('aaacodebbb') → 1\n",
    "# count_code('codexxcode') → 2\n",
    "# count_code('cozexxcope') → 2\n",
    "\n",
    "def count_code(string):\n",
    "    # YOUR CODE HERE\n",
    "    count = 0\n",
    "    for i in range(len(string)):\n",
    "        if i <= len(string) - 4:\n",
    "            if string[i] == 'c' and string[i + 1] == 'o' and string[i + 3] == 'e':\n",
    "                count += 1\n",
    "    return count"
   ]
  },
  {
   "cell_type": "code",
   "execution_count": 18,
   "metadata": {},
   "outputs": [],
   "source": [
    "# Run this cell to test your code\n",
    "\n",
    "def tests():\n",
    "    test1 = (count_code('aaacodebbb') == 1)\n",
    "    test2 = (count_code('codexxcode') == 2)\n",
    "    test3 = (count_code('cozexxcope') == 2)\n",
    "    test4 = (count_code('cozcop') == 0)\n",
    "    test5 = (count_code('AAcodeBBcoleCCccoreDD') == 3)\n",
    "    test6 = (count_code('ode') == 0)\n",
    "    test7 = (count_code('') == 0)\n",
    "    test8 = (count_code('AAcodeBBcoleCCccorfDD') == 2)\n",
    "    \n",
    "    return test1 and test2 and test3 and test4 and test5 and test6 and test7 and test8\n",
    "\n",
    "if tests() == True:\n",
    "    print('All correct! Great job!')\n",
    "else:\n",
    "    print('Something is wrong. Check your code again.')\n",
    "    "
   ]
  },
  {
   "cell_type": "markdown",
   "metadata": {
    "collapsed": true
   },
   "source": [
    "Now, remember **search algorithms** that Lainey covered a few days earlier? Let us implement a simple search of a specific element in a list or string.\n",
    "\n",
    "**Exercise 4:**\n",
    "\n",
    "Write a function ```index(elem, seq)``` that takes as inputs an element elem and a sequence seq, and that uses a loop to find and return the index of the first occurrence of elem in seq. The sequence seq can be either a list or a string. If seq is a string, elem will be a single-character string; if seq is a list, elem can be any value. Don’t forget that the index of the first element in a sequence is 0.\n",
    "\n",
    "Important notes:\n",
    "\n",
    "- If elem is not an element of seq, the function should return -1.\n",
    "\n",
    "- You may **not** use the in operator in this function to test for the presence of elem in seq. (However, you are welcome to use in as part of the header of a for loop.) In addition, you may **not** use any built-in methods (i.e., functions like find or index that are found inside of string or list objects). However, you may use built-in functions like len and range."
   ]
  },
  {
   "cell_type": "code",
   "execution_count": 1,
   "metadata": {
    "collapsed": true
   },
   "outputs": [],
   "source": [
    "# Exercise 4\n",
    "\n",
    "# index(5, [4, 10, 8, 5, 3, 5]) → 3\n",
    "# index('hi', ['well', 'hi', 'there']) → 1\n",
    "# index('b', 'banana') → 0\n",
    "# index('a', 'wxyz') → -1\n",
    "\n",
    "def index(elem, seq):\n",
    "    # YOUR CODE HERE\n",
    "    for i in range(len(seq)):\n",
    "        if elem == seq[i]:\n",
    "            return i\n",
    "        \n",
    "    return -1"
   ]
  },
  {
   "cell_type": "code",
   "execution_count": 17,
   "metadata": {},
   "outputs": [],
   "source": [
    "# Run this cell to test your code\n",
    "\n",
    "def tests():\n",
    "    test1 = (index(5, [4, 10, 8, 5, 3, 5]) == 3)\n",
    "    test2 = (index('hi', ['well', 'hi', 'there']) == 1)\n",
    "    test3 = (index('b', 'banana') == 0)\n",
    "    test4 = (index('a', 'wxyz') == -1)\n",
    "    test5 = (index('a', 'banana') == 1)\n",
    "    test6 = (index('n', 'banana') == 2)\n",
    "    test7 = (index('i', 'team') == -1)\n",
    "    test8 = (index(8, [4, 10, 5, 3]) == -1)\n",
    "    \n",
    "    return test1 and test2 and test3 and test4 and test5 and test6 and test7 and test8\n",
    "\n",
    "if tests() == True:\n",
    "    print('All correct! Great job!')\n",
    "else:\n",
    "    print('Something is wrong. Check your code again.')"
   ]
  },
  {
   "cell_type": "markdown",
   "metadata": {},
   "source": [
    "**Exercise 5:**\n",
    "\n",
    "Return True if the string \"cat\" and \"dog\" appear the same number of times in the given string.\n",
    "(Hint: This is somewhat similar to the logic used in Exercise 3 above!)\n",
    "Remember to take care of the \"index out of range\" issue."
   ]
  },
  {
   "cell_type": "code",
   "execution_count": 14,
   "metadata": {
    "collapsed": true
   },
   "outputs": [],
   "source": [
    "# Exercise 5\n",
    "\n",
    "# cat_dog('catdog') → True\n",
    "# cat_dog('catcat') → False\n",
    "# cat_dog('1cat1cadodog') → True\n",
    "\n",
    "def cat_dog(string):\n",
    "    # YOUR CODE HERE\n",
    "    count_cat = 0\n",
    "    count_dog = 0\n",
    "    for i in range(len(string)):\n",
    "        if i <= len(string) - 3:\n",
    "            if string[i:i+3] == 'cat':\n",
    "                count_cat += 1\n",
    "            elif string[i:i+3] == 'dog':\n",
    "                count_dog += 1\n",
    "    if count_cat == count_dog:\n",
    "        return True\n",
    "    else:\n",
    "        return False"
   ]
  },
  {
   "cell_type": "code",
   "execution_count": 16,
   "metadata": {},
   "outputs": [],
   "source": [
    "# Run this cell to test your code\n",
    "\n",
    "def tests():\n",
    "    test1 = (cat_dog('catdog') == True)\n",
    "    test2 = (cat_dog('catcat') == False)\n",
    "    test3 = (cat_dog('1cat1cadodog') == True)\n",
    "    test4 = (cat_dog('catxxdogxxxdog') == False)\n",
    "    test5 = (cat_dog('catxdogxdogxcat') == True)\n",
    "    test6 = (cat_dog('ca') == True)\n",
    "    test7 = (cat_dog('') == True)\n",
    "    test8 = (cat_dog('dog') == False)\n",
    "    \n",
    "    return test1 and test2 and test3 and test4 and test5 and test6 and test7 and test8\n",
    "\n",
    "if tests() == True:\n",
    "    print('All correct! Great job!')\n",
    "else:\n",
    "    print('Something is wrong. Check your code again.')"
   ]
  },
  {
   "cell_type": "markdown",
   "metadata": {},
   "source": [
    "When preprocessing data, we sometimes need to avoid redundant data/replicas in the dataset. In this exercise, you will attempt to remove duplicates in the list.\n",
    "\n",
    "**Exercise 6:**\n",
    "\n",
    "Write a function called ```remove_duplicates(lst)```, that has only one copy of the number in the list. \n",
    "\n",
    "You may consider creating a new empty list with ```new_lst = []```. \n",
    "\n",
    "Remember, how do we concatenate integers to a list? (Concatenation can only happen with 2 same datatypes). Can you concatenate an integer and list? How would you convert an integer into a list, so we can concatenate? You may want to think of these before doing this problem."
   ]
  },
  {
   "cell_type": "code",
   "execution_count": 9,
   "metadata": {},
   "outputs": [],
   "source": [
    "# Exercise 6\n",
    "\n",
    "# remove_duplicates([1, 3, 1, 3, 3, 4]) → [1, 3, 4]\n",
    "# remove_duplicates([10, 10, 10]) → [10]\n",
    "# remove_duplicates([45, 23, 44, 81]) → [45, 23, 44, 81]\n",
    "\n",
    "def remove_duplicates(lst):\n",
    "    # YOUR CODE HERE\n",
    "    new_lst = []\n",
    "    for ele in lst:\n",
    "        if ele not in new_lst:\n",
    "            new_lst += [ele]\n",
    "    \n",
    "    return new_lst"
   ]
  },
  {
   "cell_type": "code",
   "execution_count": 13,
   "metadata": {},
   "outputs": [],
   "source": [
    "# Run this cell to test your code\n",
    "\n",
    "def tests():\n",
    "    test1 = (remove_duplicates([1, 3, 1, 3, 3, 4]) == [1, 3, 4])\n",
    "    test2 = (remove_duplicates([10, 10, 10]) == [10])\n",
    "    test3 = (remove_duplicates([45, 23, 44, 81]) == [45, 23, 44, 81])\n",
    "    test4 = (remove_duplicates([55]) == [55])\n",
    "    test5 = (remove_duplicates([]) == [])\n",
    "    test6 = (remove_duplicates([23, 18]) == [23, 18])\n",
    "    \n",
    "    return test1 and test2 and test3 and test4 and test5 and test6\n",
    "\n",
    "if tests() == True:\n",
    "    print('All correct! Great job!')\n",
    "else:\n",
    "    print('Something is wrong. Check your code again.')"
   ]
  },
  {
   "cell_type": "markdown",
   "metadata": {},
   "source": [
    "**Food for thought:** Will your code work if 'lst' was not a list of integers, but a list of strings instead? What about a mix of both integers and strings in the same list? Think about it for a while. \n",
    "\n",
    "After you have your answer, run the tests below to see for yourself!"
   ]
  },
  {
   "cell_type": "code",
   "execution_count": 12,
   "metadata": {},
   "outputs": [],
   "source": [
    "# Just integers\n",
    "print('Integers only: ', remove_duplicates([1, 3, 1, 3, 3, 4]))\n",
    "\n",
    "# Just strings\n",
    "print('Strings only: ', remove_duplicates(['Hi', 'Hello', 'Hello', 'Hi', 'Hi']))\n",
    "\n",
    "# Strings and integers together\n",
    "print('Mix of both: ', remove_duplicates([1, 'Hi', 3, 'Hi', 'Hello', 1, 3, 'Hello', 3, 4, 'Hi']))"
   ]
  },
  {
   "cell_type": "markdown",
   "metadata": {},
   "source": [
    "**AWESOME JOB!** You have finished another deck of Python problems! You should be proud!\n",
    "\n",
    "Please feel free to ask any questions you may have with your remaining time."
   ]
  },
  {
   "cell_type": "code",
   "execution_count": null,
   "metadata": {
    "collapsed": true
   },
   "outputs": [],
   "source": []
  }
 ],
 "metadata": {
  "kernelspec": {
   "display_name": "Python 3",
   "language": "python",
   "name": "python3"
  },
  "language_info": {
   "codemirror_mode": {
    "name": "ipython",
    "version": 3
   },
   "file_extension": ".py",
   "mimetype": "text/x-python",
   "name": "python",
   "nbconvert_exporter": "python",
   "pygments_lexer": "ipython3",
   "version": "3.6.1"
  }
 },
 "nbformat": 4,
 "nbformat_minor": 2
}
